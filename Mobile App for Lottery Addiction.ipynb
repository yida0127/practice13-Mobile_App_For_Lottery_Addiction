{
 "cells": [
  {
   "cell_type": "markdown",
   "metadata": {},
   "source": [
    "# Mobile App for Lottery Addiction\n",
    "\n",
    "### Introduction\n",
    "\n",
    "Many people start playing the lottery for fun, but for some this activity turns into a habit which eventually escalates into addiction. Like other compulsive gamblers, lottery addicts soon begin spending from their savings and loans, they start to accumulate debts, and eventually engage in desperate behaviors like theft.\n",
    "\n",
    "A medical institute that aims to prevent and treat gambling addictions wants to build a dedicated mobile app to help lottery addicts better estimate their chances of winning. The institute has a team of engineers that will build the app, but they need us to create the logical core of the app and calculate probabilities.\n",
    "\n",
    "For the first version of the app, they want us to focus on the [6/49](https://en.wikipedia.org/wiki/Lotto_6/49) lottery and build functions that enable users to answer questions like:\n",
    "\n",
    "- What is the probability of winning the big prize with a single ticket?\n",
    "- What is the probability of winning the big prize if we play 40 different tickets (or any other number)?\n",
    "- What is the probability of having at least five (or four, or three, or two) winning numbers on a single ticket?\n",
    "\n",
    "The institute also wants us to consider historical data coming from the national 6/49 lottery game in Canada. [The data set](https://www.kaggle.com/datascienceai/lottery-dataset) has data for 3,665 drawings, dating from 1982 to 2018 (we'll come back to this).\n",
    "\n",
    "The scenario we're following throughout this project is fictional — the main purpose is to practice applying the concepts we learned in a setting that simulates a real-world scenario."
   ]
  },
  {
   "cell_type": "markdown",
   "metadata": {},
   "source": [
    "### Core Functions\n",
    "\n",
    "<b>Our goal is to write code that can enable users to answer probability questions about playing the lottery.</b> Throughout the project, we'll need to calculate repeatedly probabilities and combinations. As a consequence, we'll start by writing two functions that we'll use often:\n",
    "\n",
    "- A function that calculates factorials; and\n",
    "- A function that calculates combinations.\n",
    "\n",
    "To calculate factorials, this is the formula we learned we need to use:\n",
    "\n",
    "\\begin{equation}\n",
    "n! = n \\times (n - 1) \\times (n - 2) \\times ... \\times 2 \\times 1\n",
    "\\end{equation}\n",
    "\n",
    "In the 6/49 lottery, six numbers are drawn from a set of 49 numbers that range from 1 to 49. The drawing is done without replacement, which means once a number is drawn, it's not put back in the set.\n",
    "\n",
    "To find the number of combinations when we're sampling without replacement and taking only k objects from a group of n objects, we can use the formula:\n",
    "\n",
    "\\begin{equation}\n",
    "_nC_k = {n \\choose k} =  \\frac{n!}{k!(n-k)!}\n",
    "\\end{equation}"
   ]
  },
  {
   "cell_type": "code",
   "execution_count": 1,
   "metadata": {
    "collapsed": false
   },
   "outputs": [],
   "source": [
    "# write a fuction of factorial()\n",
    "def factorial(n):\n",
    "    final_product = 1\n",
    "    for i in range(n,0,-1):\n",
    "        final_product *= i\n",
    "    return final_product\n",
    "\n",
    "# write a function of combinations()\n",
    "def combinations(n,k):\n",
    "    return factorial(n)/(factorial(n-k)*factorial(k))\n"
   ]
  },
  {
   "cell_type": "markdown",
   "metadata": {},
   "source": [
    "### One-ticket Probability"
   ]
  },
  {
   "cell_type": "code",
   "execution_count": 2,
   "metadata": {
    "collapsed": false
   },
   "outputs": [],
   "source": [
    "def one_ticket_probability(user_number):\n",
    "    \"\"\"\n",
    "    user_number must be 6 numbers typed in list format\n",
    "    \"\"\"\n",
    "    n_combinations = combinations(49,6)\n",
    "    n_successful = 1\n",
    "    p_successful = (n_successful / n_combinations) * 100\n",
    "    print(\"The winning oppurtunity of {} is {:.7f}%\".format(user_number, p_successful))"
   ]
  },
  {
   "cell_type": "code",
   "execution_count": 3,
   "metadata": {
    "collapsed": false
   },
   "outputs": [
    {
     "name": "stdout",
     "output_type": "stream",
     "text": [
      "The winning oppurtunity of [1, 2, 3, 4, 5, 6] is 0.0000072%\n"
     ]
    }
   ],
   "source": [
    "test_1 = one_ticket_probability([1,2,3,4,5,6])\n",
    "test_1"
   ]
  },
  {
   "cell_type": "code",
   "execution_count": 4,
   "metadata": {
    "collapsed": false
   },
   "outputs": [
    {
     "name": "stdout",
     "output_type": "stream",
     "text": [
      "The winning oppurtunity of [34, 49, 17, 11, 8, 24] is 0.0000072%\n"
     ]
    }
   ],
   "source": [
    "test_2 = one_ticket_probability([34,49,17,11,8,24])"
   ]
  },
  {
   "cell_type": "markdown",
   "metadata": {},
   "source": [
    "### Historical Data Check for Canada Lottery\n",
    "\n",
    "The data set contains historical data for 3,665 drawings (each row shows data for a single drawing), dating from 1982 to 2018. For each drawing, we can find the six numbers drawn in the following six columns:\n",
    "\n",
    "- NUMBER DRAWN 1\n",
    "- NUMBER DRAWN 2\n",
    "- NUMBER DRAWN 3\n",
    "- NUMBER DRAWN 4\n",
    "- NUMBER DRAWN 5\n",
    "- NUMBER DRAWN 6"
   ]
  },
  {
   "cell_type": "code",
   "execution_count": 5,
   "metadata": {
    "collapsed": false,
    "scrolled": true
   },
   "outputs": [
    {
     "name": "stdout",
     "output_type": "stream",
     "text": [
      "(3665, 11)\n"
     ]
    },
    {
     "data": {
      "text/html": [
       "<div>\n",
       "<style scoped>\n",
       "    .dataframe tbody tr th:only-of-type {\n",
       "        vertical-align: middle;\n",
       "    }\n",
       "\n",
       "    .dataframe tbody tr th {\n",
       "        vertical-align: top;\n",
       "    }\n",
       "\n",
       "    .dataframe thead th {\n",
       "        text-align: right;\n",
       "    }\n",
       "</style>\n",
       "<table border=\"1\" class=\"dataframe\">\n",
       "  <thead>\n",
       "    <tr style=\"text-align: right;\">\n",
       "      <th></th>\n",
       "      <th>PRODUCT</th>\n",
       "      <th>DRAW NUMBER</th>\n",
       "      <th>SEQUENCE NUMBER</th>\n",
       "      <th>DRAW DATE</th>\n",
       "      <th>NUMBER DRAWN 1</th>\n",
       "      <th>NUMBER DRAWN 2</th>\n",
       "      <th>NUMBER DRAWN 3</th>\n",
       "      <th>NUMBER DRAWN 4</th>\n",
       "      <th>NUMBER DRAWN 5</th>\n",
       "      <th>NUMBER DRAWN 6</th>\n",
       "      <th>BONUS NUMBER</th>\n",
       "    </tr>\n",
       "  </thead>\n",
       "  <tbody>\n",
       "    <tr>\n",
       "      <th>0</th>\n",
       "      <td>649</td>\n",
       "      <td>1</td>\n",
       "      <td>0</td>\n",
       "      <td>6/12/1982</td>\n",
       "      <td>3</td>\n",
       "      <td>11</td>\n",
       "      <td>12</td>\n",
       "      <td>14</td>\n",
       "      <td>41</td>\n",
       "      <td>43</td>\n",
       "      <td>13</td>\n",
       "    </tr>\n",
       "    <tr>\n",
       "      <th>1</th>\n",
       "      <td>649</td>\n",
       "      <td>2</td>\n",
       "      <td>0</td>\n",
       "      <td>6/19/1982</td>\n",
       "      <td>8</td>\n",
       "      <td>33</td>\n",
       "      <td>36</td>\n",
       "      <td>37</td>\n",
       "      <td>39</td>\n",
       "      <td>41</td>\n",
       "      <td>9</td>\n",
       "    </tr>\n",
       "    <tr>\n",
       "      <th>2</th>\n",
       "      <td>649</td>\n",
       "      <td>3</td>\n",
       "      <td>0</td>\n",
       "      <td>6/26/1982</td>\n",
       "      <td>1</td>\n",
       "      <td>6</td>\n",
       "      <td>23</td>\n",
       "      <td>24</td>\n",
       "      <td>27</td>\n",
       "      <td>39</td>\n",
       "      <td>34</td>\n",
       "    </tr>\n",
       "  </tbody>\n",
       "</table>\n",
       "</div>"
      ],
      "text/plain": [
       "   PRODUCT  DRAW NUMBER  SEQUENCE NUMBER  DRAW DATE  NUMBER DRAWN 1  \\\n",
       "0      649            1                0  6/12/1982               3   \n",
       "1      649            2                0  6/19/1982               8   \n",
       "2      649            3                0  6/26/1982               1   \n",
       "\n",
       "   NUMBER DRAWN 2  NUMBER DRAWN 3  NUMBER DRAWN 4  NUMBER DRAWN 5  \\\n",
       "0              11              12              14              41   \n",
       "1              33              36              37              39   \n",
       "2               6              23              24              27   \n",
       "\n",
       "   NUMBER DRAWN 6  BONUS NUMBER  \n",
       "0              43            13  \n",
       "1              41             9  \n",
       "2              39            34  "
      ]
     },
     "execution_count": 5,
     "metadata": {},
     "output_type": "execute_result"
    }
   ],
   "source": [
    "# import library we need\n",
    "import pandas as pd\n",
    "\n",
    "# read in 649.csv into dataframe\n",
    "lottery_canada = pd.read_csv(\"649.csv\")\n",
    "# check the rows and columns number\n",
    "print(lottery_canada.shape)\n",
    "# overview the first 3 rows\n",
    "lottery_canada.head(3)"
   ]
  },
  {
   "cell_type": "code",
   "execution_count": 6,
   "metadata": {
    "collapsed": false,
    "scrolled": true
   },
   "outputs": [
    {
     "data": {
      "text/html": [
       "<div>\n",
       "<style scoped>\n",
       "    .dataframe tbody tr th:only-of-type {\n",
       "        vertical-align: middle;\n",
       "    }\n",
       "\n",
       "    .dataframe tbody tr th {\n",
       "        vertical-align: top;\n",
       "    }\n",
       "\n",
       "    .dataframe thead th {\n",
       "        text-align: right;\n",
       "    }\n",
       "</style>\n",
       "<table border=\"1\" class=\"dataframe\">\n",
       "  <thead>\n",
       "    <tr style=\"text-align: right;\">\n",
       "      <th></th>\n",
       "      <th>PRODUCT</th>\n",
       "      <th>DRAW NUMBER</th>\n",
       "      <th>SEQUENCE NUMBER</th>\n",
       "      <th>DRAW DATE</th>\n",
       "      <th>NUMBER DRAWN 1</th>\n",
       "      <th>NUMBER DRAWN 2</th>\n",
       "      <th>NUMBER DRAWN 3</th>\n",
       "      <th>NUMBER DRAWN 4</th>\n",
       "      <th>NUMBER DRAWN 5</th>\n",
       "      <th>NUMBER DRAWN 6</th>\n",
       "      <th>BONUS NUMBER</th>\n",
       "    </tr>\n",
       "  </thead>\n",
       "  <tbody>\n",
       "    <tr>\n",
       "      <th>3662</th>\n",
       "      <td>649</td>\n",
       "      <td>3589</td>\n",
       "      <td>0</td>\n",
       "      <td>6/13/2018</td>\n",
       "      <td>6</td>\n",
       "      <td>22</td>\n",
       "      <td>24</td>\n",
       "      <td>31</td>\n",
       "      <td>32</td>\n",
       "      <td>34</td>\n",
       "      <td>16</td>\n",
       "    </tr>\n",
       "    <tr>\n",
       "      <th>3663</th>\n",
       "      <td>649</td>\n",
       "      <td>3590</td>\n",
       "      <td>0</td>\n",
       "      <td>6/16/2018</td>\n",
       "      <td>2</td>\n",
       "      <td>15</td>\n",
       "      <td>21</td>\n",
       "      <td>31</td>\n",
       "      <td>38</td>\n",
       "      <td>49</td>\n",
       "      <td>8</td>\n",
       "    </tr>\n",
       "    <tr>\n",
       "      <th>3664</th>\n",
       "      <td>649</td>\n",
       "      <td>3591</td>\n",
       "      <td>0</td>\n",
       "      <td>6/20/2018</td>\n",
       "      <td>14</td>\n",
       "      <td>24</td>\n",
       "      <td>31</td>\n",
       "      <td>35</td>\n",
       "      <td>37</td>\n",
       "      <td>48</td>\n",
       "      <td>17</td>\n",
       "    </tr>\n",
       "  </tbody>\n",
       "</table>\n",
       "</div>"
      ],
      "text/plain": [
       "      PRODUCT  DRAW NUMBER  SEQUENCE NUMBER  DRAW DATE  NUMBER DRAWN 1  \\\n",
       "3662      649         3589                0  6/13/2018               6   \n",
       "3663      649         3590                0  6/16/2018               2   \n",
       "3664      649         3591                0  6/20/2018              14   \n",
       "\n",
       "      NUMBER DRAWN 2  NUMBER DRAWN 3  NUMBER DRAWN 4  NUMBER DRAWN 5  \\\n",
       "3662              22              24              31              32   \n",
       "3663              15              21              31              38   \n",
       "3664              24              31              35              37   \n",
       "\n",
       "      NUMBER DRAWN 6  BONUS NUMBER  \n",
       "3662              34            16  \n",
       "3663              49             8  \n",
       "3664              48            17  "
      ]
     },
     "execution_count": 6,
     "metadata": {},
     "output_type": "execute_result"
    }
   ],
   "source": [
    "# overview the last 3 rows\n",
    "lottery_canada.tail(3)"
   ]
  },
  {
   "cell_type": "code",
   "execution_count": 16,
   "metadata": {
    "collapsed": false
   },
   "outputs": [
    {
     "data": {
      "text/plain": [
       "NUMBER DRAWN 1     3\n",
       "NUMBER DRAWN 2    11\n",
       "NUMBER DRAWN 3    12\n",
       "NUMBER DRAWN 4    14\n",
       "NUMBER DRAWN 5    41\n",
       "NUMBER DRAWN 6    43\n",
       "Name: 0, dtype: object"
      ]
     },
     "execution_count": 16,
     "metadata": {},
     "output_type": "execute_result"
    }
   ],
   "source": [
    "lottery_canada.iloc[0][4:10]"
   ]
  },
  {
   "cell_type": "markdown",
   "metadata": {},
   "source": [
    "### Functions for Historical Data Check\n",
    "\n",
    "The engineering team told us that we need to be aware of the following details:\n",
    "\n",
    "- Inside the app, the user inputs six different numbers from 1 to 49.\n",
    "- Under the hood, the six numbers will come as a Python list and serve as an input to our function.\n",
    "- The engineering team wants us to write a function that prints:\n",
    "  - the number of times the combination selected occurred in the Canada data set; and\n",
    "  - the probability of winning the big prize in the next drawing with that combination.\n",
    "\n",
    "We'll now start working on writing this function. Note there's more than one way to solve this problem, so take the instructions below as suggestions."
   ]
  },
  {
   "cell_type": "code",
   "execution_count": 18,
   "metadata": {
    "collapsed": false
   },
   "outputs": [
    {
     "data": {
      "text/plain": [
       "0    {3, 41, 11, 12, 43, 14}\n",
       "1    {33, 36, 37, 39, 8, 41}\n",
       "2     {1, 6, 39, 23, 24, 27}\n",
       "3     {3, 9, 10, 43, 13, 20}\n",
       "4    {34, 5, 14, 47, 21, 31}\n",
       "dtype: object"
      ]
     },
     "execution_count": 18,
     "metadata": {},
     "output_type": "execute_result"
    }
   ],
   "source": [
    "def extract_numbers(row):\n",
    "    \"\"\"\n",
    "    row is a dataset for lottery_canada\n",
    "    columns no.4-9 refers to drawn number 1-6\n",
    "    return numbers in set type\n",
    "    \"\"\"\n",
    "    numbers = row[4:10]\n",
    "    numbers = set(numbers.values)\n",
    "    return numbers\n",
    "\n",
    "# extract drawn numbers from dataset and assign to variable 'winning_numbers'\n",
    "winning_numbers = lottery_canada.apply(extract_numbers,axis=1)\n",
    "winning_numbers.head()"
   ]
  },
  {
   "cell_type": "code",
   "execution_count": 21,
   "metadata": {
    "collapsed": true
   },
   "outputs": [],
   "source": [
    "def check_historical_occurence(user_number, historical_numbers):\n",
    "    \"\"\"\n",
    "    user_numbers : a Python list\n",
    "    historical_numbers: a pandas Series\n",
    "    \"\"\"\n",
    "    user_number_set = set(user_number) # transfer list into set type\n",
    "    occurrence = (user_number_set == historical_numbers) # return True & False\n",
    "    n_occurrence = occurrence.sum() # sum True & False to see occurrence number\n",
    "    \n",
    "    if n_occurrence == 0:\n",
    "        print(\"\"\"The combination {} is never occurred in historical numbers. This doesn't mean your combinations will or will not happen next time.\n",
    "        Your oppurtunity to win a big prize in the next drawing using {} is 0.0000072%.\n",
    "        \"\"\".format(user_number,user_number))\n",
    "    else:\n",
    "        print(\"\"\"The combination {} happened {} time(s) in historical numbers. This doesn't mean your combination will or will not happen next time.\n",
    "        Your oppurtunity to win a big prize in the next drawing using {} is 0.0000072%.\n",
    "        \"\"\".format(user_number,n_occurrence,user_number))\n",
    "    "
   ]
  },
  {
   "cell_type": "code",
   "execution_count": 22,
   "metadata": {
    "collapsed": false
   },
   "outputs": [
    {
     "name": "stdout",
     "output_type": "stream",
     "text": [
      "The combination [3, 9, 10, 43, 13, 20] happened 1 time(s) in historical numbers. This doesn't mean your combination will or will not happen next time.\n",
      "        Your oppurtunity to win a big prize in the next drawing using [3, 9, 10, 43, 13, 20] is 0.0000072%.\n",
      "        \n"
     ]
    }
   ],
   "source": [
    "# check the function\n",
    "test_3 = check_historical_occurence([3,9,10,43,13,20],winning_numbers)\n",
    "test_3"
   ]
  },
  {
   "cell_type": "markdown",
   "metadata": {},
   "source": [
    "We build a function for users to check if their combinations had occurred in history. \n",
    "- First, we convert user_numbers format from list to set.\n",
    "- Second, check if user_number_ser exists in historical_numbers and it returns a boolean value representing occurred or not.\n",
    "- Third, count the number of occurrence. 0 means never occured while other results means had occurred."
   ]
  },
  {
   "cell_type": "markdown",
   "metadata": {},
   "source": [
    "### Multi-Ticket Probability"
   ]
  },
  {
   "cell_type": "markdown",
   "metadata": {},
   "source": [
    "Lottery addicts usually play more than one ticket on a single drawing, thinking that this might increase their chances of winning significantly. Our purpose is to help them better estimate their chances of winning — on this screen, we're going to write a function that will allow the users to calculate the chances of winning for any number of different tickets.\n",
    "\n",
    "We've talked with the engineering team and they gave us the following information:\n",
    "\n",
    "- The user will input the number of different tickets they want to play (without inputting the specific combinations they intend to play).\n",
    "- Our function will see an integer between 1 and 13,983,816 (the maximum number of different tickets).\n",
    "- The function should print information about the probability of winning the big prize depending on the number of different tickets played.\n",
    "\n",
    "We want to write a function for uses to calculate probabilities of winning a big prize if they buy multiple lottery tickets.\n",
    "\n",
    "- First, let users to key in number of tickets they bought.\n",
    "- Second, calculate the probabilities by dividing n by the number of combinations.\n",
    "- Third, print out the result in a personalized way."
   ]
  },
  {
   "cell_type": "code",
   "execution_count": 25,
   "metadata": {
    "collapsed": false
   },
   "outputs": [],
   "source": [
    "def multi_ticket_probability(n):\n",
    "    \"\"\"\n",
    "    calculate the winning probability with buying n lottery tickets\n",
    "    n must be positive integer\n",
    "    \"\"\"\n",
    "    n_possibilities = combinations(49,6)\n",
    "    probability = n / n_possibilities * 100\n",
    "    \n",
    "    if n == 1:\n",
    "        print(\"\"\"The chance to win a big prize of one ticket is {:7f}%.\n",
    "In other word, you have 1 of {} chances to win.\n",
    "        \"\"\".format(probability, n_possibilities))\n",
    "    else:\n",
    "        print(\"\"\"The chance to win a big prize of {} tickets is {:7f}%.\n",
    "In other word, you have 1 of {} chances to win.\n",
    "        \"\"\".format(n,probability,n_possibilities))"
   ]
  },
  {
   "cell_type": "code",
   "execution_count": 27,
   "metadata": {
    "collapsed": false
   },
   "outputs": [
    {
     "name": "stdout",
     "output_type": "stream",
     "text": [
      "The chance to win a big prize of one ticket is 0.000007%.\n",
      "In other word, you have 1 of 13983816.0 chances to win.\n",
      "        \n",
      "-----------------------------\n",
      "The chance to win a big prize of 10 tickets is 0.000072%.\n",
      "In other word, you have 1 of 13983816.0 chances to win.\n",
      "        \n",
      "-----------------------------\n",
      "The chance to win a big prize of 55 tickets is 0.000393%.\n",
      "In other word, you have 1 of 13983816.0 chances to win.\n",
      "        \n",
      "-----------------------------\n",
      "The chance to win a big prize of 10000 tickets is 0.071511%.\n",
      "In other word, you have 1 of 13983816.0 chances to win.\n",
      "        \n",
      "-----------------------------\n",
      "The chance to win a big prize of 600000 tickets is 4.290674%.\n",
      "In other word, you have 1 of 13983816.0 chances to win.\n",
      "        \n",
      "-----------------------------\n",
      "The chance to win a big prize of 6991908 tickets is 50.000000%.\n",
      "In other word, you have 1 of 13983816.0 chances to win.\n",
      "        \n",
      "-----------------------------\n",
      "The chance to win a big prize of 13983816 tickets is 100.000000%.\n",
      "In other word, you have 1 of 13983816.0 chances to win.\n",
      "        \n",
      "-----------------------------\n"
     ]
    }
   ],
   "source": [
    "# input a list of numbers to check the function\n",
    "input_list = [1,10,55,10000,600000,6991908,13983816]\n",
    "\n",
    "for i in input_list:\n",
    "    multi_ticket_probability(i)\n",
    "    print(\"-----------------------------\") # output delimeter"
   ]
  },
  {
   "cell_type": "markdown",
   "metadata": {},
   "source": [
    "### Less Winning Numbers - Function\n",
    "On this screen, we're going to write one more function to allow the users to calculate probabilities for two, three, four, or five winning numbers.\n",
    "\n",
    "For extra context, in most 6/49 lotteries there are smaller prizes if a player's ticket match two, three, four, or five of the six numbers drawn. As a consequence, the users might be interested in knowing the probability of having two, three, four, or five winning numbers.\n",
    "\n",
    "These are the engineering details we'll need to be aware of:\n",
    "\n",
    "- Inside the app, the user inputs:\n",
    "  - six different numbers from 1 to 49; and\n",
    "  - an integer between 2 and 5 that represents the number of winning numbers expected\n",
    "- Our function prints information about the probability of having the inputted number of winning numbers.\n",
    "\n",
    "Calculation example is as below:\n",
    "\\begin{equation}\n",
    "_6C_5 = {6 \\choose 5} =  \\frac{6!}{5!(6-5)!} =  6\n",
    "\\end{equation}"
   ]
  },
  {
   "cell_type": "code",
   "execution_count": 28,
   "metadata": {
    "collapsed": true
   },
   "outputs": [],
   "source": [
    "def probability_less_6(n):\n",
    "    \"\"\"\n",
    "    n must be positive integers from 1 to 6\n",
    "    this function will calculate the winning posibility of n numbers\n",
    "    \"\"\"\n",
    "    n_combination_ticket = combinations(6,n)\n",
    "    n_combination_remaining = combinations(43,6-n)\n",
    "    n_possibilities = n_combination_ticket * n_combination_remaining\n",
    "    \n",
    "    total_possible_outcomes = combinations(49,6)\n",
    "    \n",
    "    # divide n_possibilities by total_possibilities\n",
    "    probability = n_possibilities / total_possible_outcomes\n",
    "    # multiply 100 for better understanding\n",
    "    probability_percentage = probability*100\n",
    "    \n",
    "    combinations_simplified = total_possible_outcomes / n_possibilities\n",
    "    \n",
    "    \n",
    "    print(\"\"\"Your chances of having {} winning numbers with this ticket are {:.7f}%.\n",
    "In other words, you have a 1 in {:,} chances to win.\"\"\".format(n,probability,round(combinations_simplified)))\n",
    "    "
   ]
  },
  {
   "cell_type": "code",
   "execution_count": 29,
   "metadata": {
    "collapsed": false,
    "scrolled": true
   },
   "outputs": [
    {
     "name": "stdout",
     "output_type": "stream",
     "text": [
      "Your chances of having 2 winning numbers with this ticket are 0.1323780%.\n",
      "In other words, you have a 1 in 8 chances to win.\n",
      "---------------------\n",
      "Your chances of having 3 winning numbers with this ticket are 0.0176504%.\n",
      "In other words, you have a 1 in 57 chances to win.\n",
      "---------------------\n",
      "Your chances of having 4 winning numbers with this ticket are 0.0009686%.\n",
      "In other words, you have a 1 in 1,032 chances to win.\n",
      "---------------------\n",
      "Your chances of having 5 winning numbers with this ticket are 0.0000184%.\n",
      "In other words, you have a 1 in 54,201 chances to win.\n",
      "---------------------\n"
     ]
    }
   ],
   "source": [
    "for i in [2,3,4,5]:\n",
    "    probability_less_6(i)\n",
    "    print(\"---------------------\") #output delimeter"
   ]
  },
  {
   "cell_type": "markdown",
   "metadata": {},
   "source": [
    "### Making the output easier to understand by funny analogies\n",
    "\n",
    "We'd like to compare winning chances with bitten by shark, the chance of bitten by shark is 1 in 11.5 million and chances of killed by shark is less than 1 in 264.1 million.\n",
    "\n",
    "Sources: [Shark Attack - Wikipedia](https://en.wikipedia.org/wiki/Shark_attack)"
   ]
  },
  {
   "cell_type": "code",
   "execution_count": 60,
   "metadata": {
    "collapsed": true
   },
   "outputs": [],
   "source": [
    "# improve function by adding fun analogies\n",
    "\n",
    "def one_ticket_probability(user_number):\n",
    "    \"\"\"\n",
    "    user_number must be 6 numbers typed in list format\n",
    "    \"\"\"\n",
    "    n_combinations = combinations(49,6)\n",
    "    n_successful = 1\n",
    "    p_successful = (n_successful / n_combinations) * 100\n",
    "    \n",
    "    shark_bite_possibilities = 1/1150000 * 100\n",
    "    \n",
    "    print(\"The winning oppurtunity of {} is {:.7f}%\".format(user_number, p_successful),\n",
    "          \"You're {:.3f} times more likely to be bitten by shark thsn winning a lottery\".format(shark_bite_possibilities/p_successful))"
   ]
  },
  {
   "cell_type": "code",
   "execution_count": 40,
   "metadata": {
    "collapsed": false
   },
   "outputs": [
    {
     "name": "stdout",
     "output_type": "stream",
     "text": [
      "The winning oppurtunity of [1, 2, 3, 4, 5, 6] is 0.0000072% You're 12.160 times more likely to be bitten by shark\n"
     ]
    }
   ],
   "source": [
    "one_ticket_probability([1,2,3,4,5,6])"
   ]
  },
  {
   "cell_type": "code",
   "execution_count": 76,
   "metadata": {
    "collapsed": true
   },
   "outputs": [],
   "source": [
    "# improve function by adding fun analogies\n",
    "\n",
    "def multi_ticket_probability(n):\n",
    "    \"\"\"\n",
    "    calculate the winning probability with buying n lottery tickets\n",
    "    n must be positive integer\n",
    "    \"\"\"\n",
    "    n_possibilities = combinations(49,6)\n",
    "    probability = n / n_possibilities * 100\n",
    "    \n",
    "    shark_bite_possibilities = 1/1150000 * 100\n",
    "    \n",
    "    if n < 13:\n",
    "        print(\"\"\"The chance to win a big prize of {} ticket is {:7f}%.\n",
    "In other word, you have 1 of {} chances to win, which means you're {:3f} times more likely to be bitten by a shark than winning a lottery.\n",
    "        \"\"\".format(n,probability, n_possibilities, shark_bite_possibilities/probability))\n",
    "        \n",
    "    else:\n",
    "        print(\"\"\"The chance to win a big prize of {} tickets is {:7f}%.\n",
    "In other word, you have 1 of {} chances to win, which means you're {:3f} times more likely to win a lottery than bitten by a shark.\n",
    "        \"\"\".format(n,probability,n_possibilities, probability/shark_bite_possibilities))"
   ]
  },
  {
   "cell_type": "code",
   "execution_count": 77,
   "metadata": {
    "collapsed": false,
    "scrolled": true
   },
   "outputs": [
    {
     "name": "stdout",
     "output_type": "stream",
     "text": [
      "The chance to win a big prize of 1 ticket is 0.000007%.\n",
      "In other word, you have 1 of 13983816.0 chances to win, which means you're 12.159840 times more likely to be bitten by a shark than winning a lottery.\n",
      "        \n",
      "-----------------------------\n",
      "The chance to win a big prize of 13 tickets is 0.000093%.\n",
      "In other word, you have 1 of 13983816.0 chances to win, which means you're 1.069093 times more likely to win a lottery than bitten by a shark.\n",
      "        \n",
      "-----------------------------\n",
      "The chance to win a big prize of 55 tickets is 0.000393%.\n",
      "In other word, you have 1 of 13983816.0 chances to win, which means you're 4.523086 times more likely to win a lottery than bitten by a shark.\n",
      "        \n",
      "-----------------------------\n",
      "The chance to win a big prize of 10000 tickets is 0.071511%.\n",
      "In other word, you have 1 of 13983816.0 chances to win, which means you're 822.379242 times more likely to win a lottery than bitten by a shark.\n",
      "        \n",
      "-----------------------------\n",
      "The chance to win a big prize of 600000 tickets is 4.290674%.\n",
      "In other word, you have 1 of 13983816.0 chances to win, which means you're 49342.754510 times more likely to win a lottery than bitten by a shark.\n",
      "        \n",
      "-----------------------------\n",
      "The chance to win a big prize of 6991908 tickets is 50.000000%.\n",
      "In other word, you have 1 of 13983816.0 chances to win, which means you're 575000.000000 times more likely to win a lottery than bitten by a shark.\n",
      "        \n",
      "-----------------------------\n",
      "The chance to win a big prize of 13983816 tickets is 100.000000%.\n",
      "In other word, you have 1 of 13983816.0 chances to win, which means you're 1150000.000000 times more likely to win a lottery than bitten by a shark.\n",
      "        \n",
      "-----------------------------\n"
     ]
    }
   ],
   "source": [
    "# input a list of numbers to check the function\n",
    "input_list = [1,13,55,10000,600000,6991908,13983816]\n",
    "\n",
    "for i in input_list:\n",
    "    multi_ticket_probability(i)\n",
    "    print(\"-----------------------------\") # output delimeter"
   ]
  }
 ],
 "metadata": {
  "kernelspec": {
   "display_name": "Python 3",
   "language": "python",
   "name": "python3"
  },
  "language_info": {
   "codemirror_mode": {
    "name": "ipython",
    "version": 3
   },
   "file_extension": ".py",
   "mimetype": "text/x-python",
   "name": "python",
   "nbconvert_exporter": "python",
   "pygments_lexer": "ipython3",
   "version": "3.4.3"
  }
 },
 "nbformat": 4,
 "nbformat_minor": 2
}
